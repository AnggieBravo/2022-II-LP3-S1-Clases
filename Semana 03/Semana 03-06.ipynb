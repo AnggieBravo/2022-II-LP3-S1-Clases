{
 "cells": [
  {
   "cell_type": "markdown",
   "id": "52d99780",
   "metadata": {},
   "source": [
    "# SEMANA 03\n",
    "Anggie Bravo Aquilino"
   ]
  },
  {
   "cell_type": "raw",
   "id": "db83a423",
   "metadata": {},
   "source": [
    "Temas \n",
    "1. Colecciones de Datos\n",
    "2. Estructuras Decisivas y Estructuras Repetitivas en Python\n",
    "3. Clases y objetos\n",
    "4. Funciones"
   ]
  },
  {
   "cell_type": "markdown",
   "id": "6f743d85",
   "metadata": {},
   "source": [
    "1. Colecciones de Datos"
   ]
  },
  {
   "cell_type": "code",
   "execution_count": 2,
   "id": "402099b7",
   "metadata": {},
   "outputs": [
    {
     "name": "stdout",
     "output_type": "stream",
     "text": [
      "['Silvestre', 'Uñapillco', 'Bravo', 'Alagon']\n"
     ]
    }
   ],
   "source": [
    "# 1.1 Listas\n",
    "# Es una colección de elementos que puede ser ordenada, modificada, etc...\n",
    "# Se identifica por los corchetes\n",
    "# Ejemplo:\n",
    "aula = ['Silvestre','Uñapillco','Bravo','Alagon']\n",
    "print(aula)"
   ]
  },
  {
   "cell_type": "code",
   "execution_count": 3,
   "id": "47fa4a2f",
   "metadata": {},
   "outputs": [
    {
     "data": {
      "text/plain": [
       "['Silvestre', 'Uñapillco', 'Bravo', 'Alagon']"
      ]
     },
     "execution_count": 3,
     "metadata": {},
     "output_type": "execute_result"
    }
   ],
   "source": [
    "aula"
   ]
  },
  {
   "cell_type": "code",
   "execution_count": 5,
   "id": "7abf06a4",
   "metadata": {},
   "outputs": [
    {
     "name": "stdout",
     "output_type": "stream",
     "text": [
      "Silvestre\n",
      "Uñapillco\n"
     ]
    }
   ],
   "source": [
    "# Puede extraer cada elemento por su posición\n",
    "print(aula[0])\n",
    "print(aula[1])"
   ]
  },
  {
   "cell_type": "code",
   "execution_count": 6,
   "id": "4073dd8a",
   "metadata": {},
   "outputs": [
    {
     "data": {
      "text/plain": [
       "'Chavez'"
      ]
     },
     "execution_count": 6,
     "metadata": {},
     "output_type": "execute_result"
    }
   ],
   "source": [
    "# Puedo asignar valor a una posición de la lista\n",
    "aula[1]='Chavez'\n",
    "aula[1]"
   ]
  },
  {
   "cell_type": "code",
   "execution_count": 7,
   "id": "ed71256b",
   "metadata": {},
   "outputs": [
    {
     "data": {
      "text/plain": [
       "['Silvestre', 'Chavez', 'Bravo', 'Alagon']"
      ]
     },
     "execution_count": 7,
     "metadata": {},
     "output_type": "execute_result"
    }
   ],
   "source": [
    "# Mostrar como quedo la lista\n",
    "aula"
   ]
  },
  {
   "cell_type": "code",
   "execution_count": 8,
   "id": "3d900883",
   "metadata": {},
   "outputs": [
    {
     "data": {
      "text/plain": [
       "['Silvestre', 'Chavez', 'Bravo', 'Alagon', 'Navarro', 'Bravo']"
      ]
     },
     "execution_count": 8,
     "metadata": {},
     "output_type": "execute_result"
    }
   ],
   "source": [
    "# Para agregar un elemento utilizamos append\n",
    "aula.append(\"Navarro\")\n",
    "aula.append(\"Bravo\")\n",
    "aula"
   ]
  },
  {
   "cell_type": "code",
   "execution_count": 9,
   "id": "0745bbc8",
   "metadata": {},
   "outputs": [
    {
     "data": {
      "text/plain": [
       "['Chavez', 'Bravo', 'Alagon', 'Navarro', 'Bravo']"
      ]
     },
     "execution_count": 9,
     "metadata": {},
     "output_type": "execute_result"
    }
   ],
   "source": [
    "# Para eliminar elementos utilizamos remove[]\n",
    "aula.remove(\"Silvestre\")\n",
    "aula"
   ]
  },
  {
   "cell_type": "code",
   "execution_count": 10,
   "id": "e7f62138",
   "metadata": {},
   "outputs": [
    {
     "data": {
      "text/plain": [
       "['Chavez', 'Alagon', 'Navarro', 'Bravo']"
      ]
     },
     "execution_count": 10,
     "metadata": {},
     "output_type": "execute_result"
    }
   ],
   "source": [
    "# Si hubiera varios elementos de valores iguales se elimina la primera coincidencia\n",
    "aula.remove(\"Bravo\")\n",
    "aula"
   ]
  },
  {
   "cell_type": "code",
   "execution_count": 11,
   "id": "d94ec681",
   "metadata": {},
   "outputs": [
    {
     "data": {
      "text/plain": [
       "4"
      ]
     },
     "execution_count": 11,
     "metadata": {},
     "output_type": "execute_result"
    }
   ],
   "source": [
    "# Para obtener el tamaño utilizamos len()\n",
    "len(aula)"
   ]
  },
  {
   "cell_type": "code",
   "execution_count": 12,
   "id": "ce87dc24",
   "metadata": {},
   "outputs": [
    {
     "name": "stdout",
     "output_type": "stream",
     "text": [
      "Chavez\n",
      "Alagon\n",
      "Navarro\n",
      "Bravo\n"
     ]
    }
   ],
   "source": [
    "# Para recorrer podemos utilizar una estructura repetitiva for\n",
    "for alumno in aula:\n",
    "    print(alumno)"
   ]
  },
  {
   "cell_type": "code",
   "execution_count": 15,
   "id": "d8e580ef",
   "metadata": {},
   "outputs": [
    {
     "data": {
      "text/plain": [
       "['Bravo', 'Navarro', 'Alagon', 'Chavez']"
      ]
     },
     "execution_count": 15,
     "metadata": {},
     "output_type": "execute_result"
    }
   ],
   "source": [
    "# Para invertir la lista utilizamos reverse()\n",
    "# Ojo: Invertir no significa ordenar en forma descendente sin invertir la lista\n",
    "aula.reverse()\n",
    "aula"
   ]
  },
  {
   "cell_type": "code",
   "execution_count": 17,
   "id": "392f152f",
   "metadata": {},
   "outputs": [
    {
     "data": {
      "text/plain": [
       "['Alagon', 'Bravo', 'Chavez', 'Navarro']"
      ]
     },
     "execution_count": 17,
     "metadata": {},
     "output_type": "execute_result"
    }
   ],
   "source": [
    "#Para ordenar una lista utilizamos sort()\n",
    "aula.sort()\n",
    "aula"
   ]
  },
  {
   "cell_type": "code",
   "execution_count": 18,
   "id": "f907037c",
   "metadata": {},
   "outputs": [
    {
     "data": {
      "text/plain": [
       "('Silvestre', 'Chavez', 'Bravo', 'Alagon')"
      ]
     },
     "execution_count": 18,
     "metadata": {},
     "output_type": "execute_result"
    }
   ],
   "source": [
    "# 1.2 Tuplas\n",
    "# Es una coleccion de elementos ordenada(ordenado significa que tiene un indice) que no se puede modificar, es inalterable\n",
    "# No se pueden agregar elementos ni eliminar.\n",
    "# Se identifica por los paréntesis.\n",
    "\n",
    "tupla_aula= ('Silvestre', 'Chavez', 'Bravo', 'Alagon')\n",
    "tupla_aula"
   ]
  },
  {
   "cell_type": "code",
   "execution_count": 19,
   "id": "01acc4fc",
   "metadata": {},
   "outputs": [
    {
     "data": {
      "text/plain": [
       "'Bravo'"
      ]
     },
     "execution_count": 19,
     "metadata": {},
     "output_type": "execute_result"
    }
   ],
   "source": [
    "#\n",
    "tupla_aula[2]"
   ]
  },
  {
   "cell_type": "code",
   "execution_count": 20,
   "id": "69d8dfbc",
   "metadata": {},
   "outputs": [
    {
     "data": {
      "text/plain": [
       "4"
      ]
     },
     "execution_count": 20,
     "metadata": {},
     "output_type": "execute_result"
    }
   ],
   "source": [
    "# Para saber la cantidad de elementos de una tupla utilizamos len()\n",
    "len(tupla_aula)"
   ]
  },
  {
   "cell_type": "code",
   "execution_count": 21,
   "id": "efe85ad5",
   "metadata": {},
   "outputs": [
    {
     "data": {
      "text/plain": [
       "{'Alagon', 'Bravo', 'Chavez', 'Silvestre'}"
      ]
     },
     "execution_count": 21,
     "metadata": {},
     "output_type": "execute_result"
    }
   ],
   "source": [
    "# 1.3 Conjuntos\n",
    "# Es una colección de elementos que no están ordenados(Significa que no tienen indice)\n",
    "conjunto_aula = {'Silvestre', 'Chavez', 'Bravo', 'Alagon'}\n",
    "conjunto_aula"
   ]
  },
  {
   "cell_type": "code",
   "execution_count": 22,
   "id": "d4999eae",
   "metadata": {},
   "outputs": [
    {
     "name": "stdout",
     "output_type": "stream",
     "text": [
      "Bravo\n",
      "Alagon\n",
      "Chavez\n",
      "Silvestre\n"
     ]
    }
   ],
   "source": [
    "# Se puede recorrer utilizando una estructura repetitiva\n",
    "# Ejemplo:\n",
    "for alumno in conjunto_aula:\n",
    "    print(alumno)"
   ]
  },
  {
   "cell_type": "code",
   "execution_count": 23,
   "id": "d8993206",
   "metadata": {},
   "outputs": [
    {
     "ename": "TypeError",
     "evalue": "'set' object is not subscriptable",
     "output_type": "error",
     "traceback": [
      "\u001b[1;31m---------------------------------------------------------------------------\u001b[0m",
      "\u001b[1;31mTypeError\u001b[0m                                 Traceback (most recent call last)",
      "Input \u001b[1;32mIn [23]\u001b[0m, in \u001b[0;36m<cell line: 4>\u001b[1;34m()\u001b[0m\n\u001b[0;32m      1\u001b[0m \u001b[38;5;66;03m#Observación:\u001b[39;00m\n\u001b[0;32m      2\u001b[0m \u001b[38;5;66;03m#No se puede acceder por posición, pues no considera indexación\u001b[39;00m\n\u001b[0;32m      3\u001b[0m \u001b[38;5;66;03m# Ejemplo: conjunto_aula[2] devolverá un mensaje de error\u001b[39;00m\n\u001b[1;32m----> 4\u001b[0m \u001b[43mconjunto_aula\u001b[49m\u001b[43m[\u001b[49m\u001b[38;5;241;43m2\u001b[39;49m\u001b[43m]\u001b[49m\n",
      "\u001b[1;31mTypeError\u001b[0m: 'set' object is not subscriptable"
     ]
    }
   ],
   "source": [
    "# Observación:\n",
    "# No se puede acceder por posición, pues no considera indexación\n",
    "# Ejemplo: conjunto_aula[2] devolverá un mensaje de error\n",
    "conjunto_aula[2]"
   ]
  },
  {
   "cell_type": "code",
   "execution_count": 24,
   "id": "d76b8dd9",
   "metadata": {},
   "outputs": [
    {
     "data": {
      "text/plain": [
       "4"
      ]
     },
     "execution_count": 24,
     "metadata": {},
     "output_type": "execute_result"
    }
   ],
   "source": [
    "# Para saber la cantidad de elementos utilzamos len()\n",
    "len(conjunto_aula)"
   ]
  },
  {
   "cell_type": "code",
   "execution_count": 26,
   "id": "ecbe8fd5",
   "metadata": {},
   "outputs": [
    {
     "data": {
      "text/plain": [
       "{'Alagon', 'Bravo', 'Chavez', 'Palomino', 'Silvestre'}"
      ]
     },
     "execution_count": 26,
     "metadata": {},
     "output_type": "execute_result"
    }
   ],
   "source": [
    "# Para agregar utilizamos la función add()\n",
    "conjunto_aula.add(\"Palomino\")\n",
    "conjunto_aula"
   ]
  },
  {
   "cell_type": "code",
   "execution_count": 27,
   "id": "b1498bff",
   "metadata": {},
   "outputs": [
    {
     "data": {
      "text/plain": [
       "{2: 'Alagon', '1': 'Bravo', 'dos': 'Chavez', '3': 'Palomino', '0': 'Silvestre'}"
      ]
     },
     "execution_count": 27,
     "metadata": {},
     "output_type": "execute_result"
    }
   ],
   "source": [
    "# 1.4 Diccionarios\n",
    "# Es una colección de elementos, que están indexados,  no están ordenados y se puede modificar\n",
    "# Son escritos entre llaves y están formados por pares de elementos INDICE: VALOR\n",
    "\n",
    "diccionario_aula = {2:'Alagon','1':'Bravo','dos':'Chavez','3':'Palomino','0':'Silvestre'}\n",
    "diccionario_aula"
   ]
  },
  {
   "cell_type": "code",
   "execution_count": 28,
   "id": "9cb8d6c0",
   "metadata": {},
   "outputs": [
    {
     "data": {
      "text/plain": [
       "'Silvestre'"
      ]
     },
     "execution_count": 28,
     "metadata": {},
     "output_type": "execute_result"
    }
   ],
   "source": [
    "# Del diccionario: diccionario_aula extraer el valor cuyo índice sea cero en String\n",
    "diccionario_aula['0']"
   ]
  },
  {
   "cell_type": "code",
   "execution_count": 29,
   "id": "b4d6b0f8",
   "metadata": {},
   "outputs": [
    {
     "data": {
      "text/plain": [
       "'Alagon'"
      ]
     },
     "execution_count": 29,
     "metadata": {},
     "output_type": "execute_result"
    }
   ],
   "source": [
    "diccionario_aula[2]"
   ]
  },
  {
   "cell_type": "code",
   "execution_count": 30,
   "id": "0f0f075e",
   "metadata": {},
   "outputs": [
    {
     "data": {
      "text/plain": [
       "'Bravo'"
      ]
     },
     "execution_count": 30,
     "metadata": {},
     "output_type": "execute_result"
    }
   ],
   "source": [
    "diccionario_aula[\"1\"]"
   ]
  },
  {
   "cell_type": "code",
   "execution_count": 31,
   "id": "da339393",
   "metadata": {},
   "outputs": [
    {
     "data": {
      "text/plain": [
       "'Chavez'"
      ]
     },
     "execution_count": 31,
     "metadata": {},
     "output_type": "execute_result"
    }
   ],
   "source": [
    "diccionario_aula[\"dos\"]"
   ]
  },
  {
   "cell_type": "code",
   "execution_count": 33,
   "id": "0b0d01ec",
   "metadata": {},
   "outputs": [
    {
     "data": {
      "text/plain": [
       "{2: 'Alagon',\n",
       " '1': 'Bravo',\n",
       " 'dos': 'Chavez',\n",
       " '3': 'Palomino',\n",
       " '0': 'Silvestre',\n",
       " '20': 'Vilca'}"
      ]
     },
     "execution_count": 33,
     "metadata": {},
     "output_type": "execute_result"
    }
   ],
   "source": [
    "# Para añadir un par de elementos al diccionario hacemos:\n",
    "diccionario_aula['20']=\"Vilca\"\n",
    "diccionario_aula"
   ]
  },
  {
   "cell_type": "code",
   "execution_count": 34,
   "id": "5b1aa785",
   "metadata": {},
   "outputs": [
    {
     "data": {
      "text/plain": [
       "{'1': 'Bravo',\n",
       " 'dos': 'Chavez',\n",
       " '3': 'Palomino',\n",
       " '0': 'Silvestre',\n",
       " '20': 'Vilca'}"
      ]
     },
     "execution_count": 34,
     "metadata": {},
     "output_type": "execute_result"
    }
   ],
   "source": [
    "# Para eliminar un valor se utiliza la funcion pop()\n",
    "# Ejemplo: Eliminar el elemento de indice dos, para eliminar a Alagon hacemos lo siguiente:\n",
    "diccionario_aula.pop(2)\n",
    "diccionario_aula"
   ]
  },
  {
   "cell_type": "code",
   "execution_count": 35,
   "id": "f0802933",
   "metadata": {},
   "outputs": [
    {
     "data": {
      "text/plain": [
       "{'1': 'Bravo', '3': 'Palomino', '0': 'Silvestre', '20': 'Vilca'}"
      ]
     },
     "execution_count": 35,
     "metadata": {},
     "output_type": "execute_result"
    }
   ],
   "source": [
    "# También se puede eliminar utilizando del()\n",
    "del(diccionario_aula[\"dos\"])\n",
    "diccionario_aula"
   ]
  },
  {
   "cell_type": "code",
   "execution_count": 36,
   "id": "acf5f232",
   "metadata": {},
   "outputs": [
    {
     "name": "stdout",
     "output_type": "stream",
     "text": [
      "1\n",
      "3\n",
      "0\n",
      "20\n"
     ]
    }
   ],
   "source": [
    "# Para poder recorrer todo los elementos podemos utilizar for\n",
    "# Ejemplo: Devuelve los índices\n",
    "for indice in diccionario_aula:\n",
    "    print(indice)"
   ]
  },
  {
   "cell_type": "code",
   "execution_count": 37,
   "id": "dcfcad19",
   "metadata": {},
   "outputs": [],
   "source": [
    "# 1.5 Ejercicio:\n",
    "# Dado una lista de [ALAGON, ARONES, BRAVO, CABEZAS,CAMAN, CAMARENA, CASAS,CORRALES, DE LA CRUZ, ESCOBAR, FELIX, FERNANDEZ, GARCIA, HUANUCO, NANQUEN, NAVARRO, PARILLO, QUISPE, SAIRA, SERNA, SILVESTRE,TOMASTO, UÑAPILLCO, VARGAS, VENTOCILLA,VENTURI, WONG, ZEVALLOS]\n",
    "# Diseñar un código que muestre si el apellido de un estudiante (Ingresado por el teclado) forma parte de la lista\n",
    "#tiempo: 12 minutos"
   ]
  },
  {
   "cell_type": "code",
   "execution_count": 55,
   "id": "edef1fd2",
   "metadata": {},
   "outputs": [
    {
     "name": "stdout",
     "output_type": "stream",
     "text": [
      "Lista del aula_is: \n",
      "\n",
      "['ALAGON', 'ARONES', 'BRAVO', 'CABEZAS', 'CAMAN', 'CAMARENA', 'CASAS', 'CORRALES', 'DE LA CRUZ', 'ESCOBAR', 'FELIX', 'FERNANDEZ', 'GARCIA', 'HUANUCO', 'NANQUEN', 'NAVARRO', 'PARILLO', 'QUISPE', 'SAIRA', 'SERNA', 'SILVESTRE', 'TOMASTO', 'UÑAPILLCO', 'VARGAS', 'VENTOCILLA', 'VENTURI', 'WONG', 'ZEVALLOS']\n",
      "\n",
      "Ingrese el apellido del alumno del salon IS: \n",
      "torres\n",
      "\n",
      "El alumno se encuentra en el aula_is: \n"
     ]
    },
    {
     "data": {
      "text/plain": [
       "False"
      ]
     },
     "execution_count": 55,
     "metadata": {},
     "output_type": "execute_result"
    }
   ],
   "source": [
    "aula_is=['ALAGON', 'ARONES', 'BRAVO', 'CABEZAS','CAMAN', 'CAMARENA', 'CASAS','CORRALES', 'DE LA CRUZ', 'ESCOBAR', 'FELIX', 'FERNANDEZ', 'GARCIA', 'HUANUCO', 'NANQUEN', 'NAVARRO', 'PARILLO', 'QUISPE', 'SAIRA', 'SERNA', 'SILVESTRE','TOMASTO', 'UÑAPILLCO', 'VARGAS', 'VENTOCILLA','VENTURI', 'WONG', 'ZEVALLOS']\n",
    "print(\"Lista del aula_is: \\n\")\n",
    "print(aula_is)\n",
    "\n",
    "#Alumno \n",
    "print(\"\\nIngrese el apellido del alumno del salon IS: \")\n",
    "alumno1=input()\n",
    "\n",
    "print(\"\\nEl alumno se encuentra en el aula_is: \")\n",
    "alumno1 in aula_is"
   ]
  },
  {
   "cell_type": "code",
   "execution_count": null,
   "id": "d014b556",
   "metadata": {},
   "outputs": [],
   "source": []
  }
 ],
 "metadata": {
  "kernelspec": {
   "display_name": "Python 3 (ipykernel)",
   "language": "python",
   "name": "python3"
  },
  "language_info": {
   "codemirror_mode": {
    "name": "ipython",
    "version": 3
   },
   "file_extension": ".py",
   "mimetype": "text/x-python",
   "name": "python",
   "nbconvert_exporter": "python",
   "pygments_lexer": "ipython3",
   "version": "3.9.12"
  }
 },
 "nbformat": 4,
 "nbformat_minor": 5
}
