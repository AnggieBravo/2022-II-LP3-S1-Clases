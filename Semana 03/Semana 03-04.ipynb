{
 "cells": [
  {
   "cell_type": "markdown",
   "id": "6dfa3d8a",
   "metadata": {},
   "source": [
    "# SEMANA 03\n",
    "Anggie Bravo Aquilino"
   ]
  },
  {
   "cell_type": "raw",
   "id": "af38e8f9",
   "metadata": {},
   "source": [
    "Temas:\n",
    "    1. Números\n",
    "    2. Variables\n",
    "    3. Manejo de Cadenas\n",
    "    4. Ingreso de Datos por teclado\n",
    "    5. Operadores"
   ]
  },
  {
   "cell_type": "markdown",
   "id": "eadd2ab3",
   "metadata": {},
   "source": [
    "    4. Ingreso de Datos por teclado"
   ]
  },
  {
   "cell_type": "code",
   "execution_count": 2,
   "id": "9d414467",
   "metadata": {},
   "outputs": [
    {
     "name": "stdout",
     "output_type": "stream",
     "text": [
      "¿Cúal es tu nombre?\n",
      "Anggie\n",
      "Hola Anggie\n"
     ]
    }
   ],
   "source": [
    "#Funcion input()\n",
    "print(\"¿Cúal es tu nombre?\")\n",
    "nombre = input()\n",
    "print(\"Hola \" + nombre)"
   ]
  },
  {
   "cell_type": "code",
   "execution_count": 3,
   "id": "6d19b068",
   "metadata": {},
   "outputs": [
    {
     "name": "stdout",
     "output_type": "stream",
     "text": [
      "número 1: \n",
      "8\n",
      "número 2: \n",
      "9\n",
      "El resultado es 17\n"
     ]
    }
   ],
   "source": [
    "# Cuando ingresa un vlor por teclado lo hace como cadena\n",
    "print(\"número 1: \")\n",
    "numero1 = input()\n",
    "print(\"número 2: \")\n",
    "numero2 = input()\n",
    "numero3 = int(numero1) + int(numero2)\n",
    "print(f\"El resultado es {numero3}\")\n"
   ]
  },
  {
   "cell_type": "code",
   "execution_count": null,
   "id": "50a7f7e3",
   "metadata": {},
   "outputs": [],
   "source": []
  }
 ],
 "metadata": {
  "kernelspec": {
   "display_name": "Python 3 (ipykernel)",
   "language": "python",
   "name": "python3"
  },
  "language_info": {
   "codemirror_mode": {
    "name": "ipython",
    "version": 3
   },
   "file_extension": ".py",
   "mimetype": "text/x-python",
   "name": "python",
   "nbconvert_exporter": "python",
   "pygments_lexer": "ipython3",
   "version": "3.9.12"
  }
 },
 "nbformat": 4,
 "nbformat_minor": 5
}
