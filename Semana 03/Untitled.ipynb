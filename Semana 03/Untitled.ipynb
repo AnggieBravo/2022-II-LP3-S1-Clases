{
 "cells": [
  {
   "cell_type": "markdown",
   "id": "86d058c5",
   "metadata": {},
   "source": [
    "# Semana 3\n",
    "\n",
    "Anggie "
   ]
  },
  {
   "cell_type": "markdown",
   "id": "ae15015c",
   "metadata": {},
   "source": [
    "gyyuiom"
   ]
  },
  {
   "cell_type": "code",
   "execution_count": 1,
   "id": "d1a60f61",
   "metadata": {},
   "outputs": [],
   "source": [
    "suma=5+1"
   ]
  },
  {
   "cell_type": "code",
   "execution_count": 2,
   "id": "ed437009",
   "metadata": {},
   "outputs": [
    {
     "name": "stdout",
     "output_type": "stream",
     "text": [
      "6\n"
     ]
    }
   ],
   "source": [
    "print(suma)"
   ]
  },
  {
   "cell_type": "code",
   "execution_count": 3,
   "id": "f5ec1e9a",
   "metadata": {},
   "outputs": [
    {
     "data": {
      "text/plain": [
       "int"
      ]
     },
     "execution_count": 3,
     "metadata": {},
     "output_type": "execute_result"
    }
   ],
   "source": [
    "type(suma)"
   ]
  },
  {
   "cell_type": "code",
   "execution_count": null,
   "id": "b064916c",
   "metadata": {},
   "outputs": [],
   "source": []
  }
 ],
 "metadata": {
  "kernelspec": {
   "display_name": "Python 3 (ipykernel)",
   "language": "python",
   "name": "python3"
  },
  "language_info": {
   "codemirror_mode": {
    "name": "ipython",
    "version": 3
   },
   "file_extension": ".py",
   "mimetype": "text/x-python",
   "name": "python",
   "nbconvert_exporter": "python",
   "pygments_lexer": "ipython3",
   "version": "3.9.12"
  }
 },
 "nbformat": 4,
 "nbformat_minor": 5
}
