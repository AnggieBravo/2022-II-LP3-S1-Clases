{
 "cells": [
  {
   "cell_type": "markdown",
   "id": "24685108",
   "metadata": {},
   "source": [
    "# SEMANA 03\n",
    "Anggie Bravo Aquilino"
   ]
  },
  {
   "cell_type": "raw",
   "id": "42a22ae4",
   "metadata": {},
   "source": [
    "Temas:\n",
    "    1. Números\n",
    "    2. Variables\n",
    "    3. Manejo de Cadenas\n",
    "    4. Ingreso de Datos por teclado\n",
    "    5. Operadores"
   ]
  },
  {
   "cell_type": "markdown",
   "id": "50831f59",
   "metadata": {},
   "source": [
    "3. Manejo de Cadenas"
   ]
  },
  {
   "cell_type": "code",
   "execution_count": 1,
   "id": "3405e187",
   "metadata": {},
   "outputs": [],
   "source": [
    "cadena = \"Universidad Nacional Tecnológica de Lima Sur\""
   ]
  },
  {
   "cell_type": "code",
   "execution_count": 2,
   "id": "775118af",
   "metadata": {},
   "outputs": [
    {
     "data": {
      "text/plain": [
       "'Universidad Nacional Tecnológica de Lima Sur'"
      ]
     },
     "execution_count": 2,
     "metadata": {},
     "output_type": "execute_result"
    }
   ],
   "source": [
    "cadena"
   ]
  },
  {
   "cell_type": "code",
   "execution_count": 3,
   "id": "28221356",
   "metadata": {},
   "outputs": [],
   "source": [
    "# Universidad Nacional Tecnológica de Lima Sur \n",
    "#01234....................................-2-1"
   ]
  },
  {
   "cell_type": "code",
   "execution_count": 4,
   "id": "8285595f",
   "metadata": {},
   "outputs": [
    {
     "data": {
      "text/plain": [
       "'r'"
      ]
     },
     "execution_count": 4,
     "metadata": {},
     "output_type": "execute_result"
    }
   ],
   "source": [
    "cadena[5]"
   ]
  },
  {
   "cell_type": "code",
   "execution_count": 5,
   "id": "7383d80f",
   "metadata": {},
   "outputs": [
    {
     "data": {
      "text/plain": [
       "'d'"
      ]
     },
     "execution_count": 5,
     "metadata": {},
     "output_type": "execute_result"
    }
   ],
   "source": [
    "cadena[10]"
   ]
  },
  {
   "cell_type": "code",
   "execution_count": 6,
   "id": "b08661d1",
   "metadata": {},
   "outputs": [],
   "source": [
    "# También considera los espacios en blanco"
   ]
  },
  {
   "cell_type": "code",
   "execution_count": 7,
   "id": "5acb6370",
   "metadata": {},
   "outputs": [
    {
     "data": {
      "text/plain": [
       "' '"
      ]
     },
     "execution_count": 7,
     "metadata": {},
     "output_type": "execute_result"
    }
   ],
   "source": [
    "cadena [11]"
   ]
  },
  {
   "cell_type": "code",
   "execution_count": 8,
   "id": "ced1b766",
   "metadata": {},
   "outputs": [
    {
     "data": {
      "text/plain": [
       "'a'"
      ]
     },
     "execution_count": 8,
     "metadata": {},
     "output_type": "execute_result"
    }
   ],
   "source": [
    "# ¿Qué me mostrará?\n",
    "cadena[-5]"
   ]
  },
  {
   "cell_type": "code",
   "execution_count": 9,
   "id": "de0e201a",
   "metadata": {},
   "outputs": [
    {
     "data": {
      "text/plain": [
       "'T'"
      ]
     },
     "execution_count": 9,
     "metadata": {},
     "output_type": "execute_result"
    }
   ],
   "source": [
    "cadena[21]"
   ]
  },
  {
   "cell_type": "code",
   "execution_count": 10,
   "id": "416c0b0e",
   "metadata": {},
   "outputs": [
    {
     "data": {
      "text/plain": [
       "'T'"
      ]
     },
     "execution_count": 10,
     "metadata": {},
     "output_type": "execute_result"
    }
   ],
   "source": [
    "# También lo puedo mostrar accediendo de manera inversa\n",
    "cadena[-23]"
   ]
  },
  {
   "cell_type": "code",
   "execution_count": 12,
   "id": "6056f788",
   "metadata": {},
   "outputs": [
    {
     "data": {
      "text/plain": [
       "'versi'"
      ]
     },
     "execution_count": 12,
     "metadata": {},
     "output_type": "execute_result"
    }
   ],
   "source": [
    "# Para mostrar una subcadena[desde, hasta una antes]\n",
    "# En java era substring()\n",
    "cadena[3:8]"
   ]
  },
  {
   "cell_type": "code",
   "execution_count": 13,
   "id": "d9f81f82",
   "metadata": {},
   "outputs": [],
   "source": [
    "#Para saber el tamaño de una cadena utilizamos len()\n",
    "# Incluye espacios en blanco"
   ]
  },
  {
   "cell_type": "code",
   "execution_count": 14,
   "id": "9c3e233a",
   "metadata": {},
   "outputs": [
    {
     "data": {
      "text/plain": [
       "44"
      ]
     },
     "execution_count": 14,
     "metadata": {},
     "output_type": "execute_result"
    }
   ],
   "source": [
    "len(cadena)"
   ]
  },
  {
   "cell_type": "code",
   "execution_count": 15,
   "id": "f52af8b4",
   "metadata": {},
   "outputs": [
    {
     "data": {
      "text/plain": [
       "'UNIVERSIDAD NACIONAL TECNOLÓGICA DE LIMA SUR'"
      ]
     },
     "execution_count": 15,
     "metadata": {},
     "output_type": "execute_result"
    }
   ],
   "source": [
    "# Para mostrar una cadena en mayúscula utilizamos upper()\n",
    "cadena.upper()"
   ]
  },
  {
   "cell_type": "code",
   "execution_count": 16,
   "id": "f917fdd4",
   "metadata": {},
   "outputs": [
    {
     "data": {
      "text/plain": [
       "'Universidad Nacional Tecnológica de Lima Sur'"
      ]
     },
     "execution_count": 16,
     "metadata": {},
     "output_type": "execute_result"
    }
   ],
   "source": [
    "# Ojo ---- Solo lo muestra, porque el original sigue siendo igual\n",
    "cadena"
   ]
  },
  {
   "cell_type": "code",
   "execution_count": 17,
   "id": "d4547133",
   "metadata": {},
   "outputs": [
    {
     "data": {
      "text/plain": [
       "'UNIVERSIDAD NACIONAL TECNOLÓGICA DE LIMA SUR'"
      ]
     },
     "execution_count": 17,
     "metadata": {},
     "output_type": "execute_result"
    }
   ],
   "source": [
    "# Si desearas cambiarlo harias: cadena = cadena.upper()\n",
    "cadena = cadena.upper()\n",
    "cadena"
   ]
  },
  {
   "cell_type": "code",
   "execution_count": 18,
   "id": "bffd9834",
   "metadata": {},
   "outputs": [
    {
     "data": {
      "text/plain": [
       "'universidad nacional tecnológica de lima sur'"
      ]
     },
     "execution_count": 18,
     "metadata": {},
     "output_type": "execute_result"
    }
   ],
   "source": [
    "# Para mostrar una cadena en minuscula utilizamos lower()\n",
    "cadena.lower()"
   ]
  },
  {
   "cell_type": "code",
   "execution_count": 19,
   "id": "c11d0a96",
   "metadata": {},
   "outputs": [
    {
     "data": {
      "text/plain": [
       "['UNIVERSIDAD', 'NACIONAL', 'TECNOLÓGICA', 'DE', 'LIMA', 'SUR']"
      ]
     },
     "execution_count": 19,
     "metadata": {},
     "output_type": "execute_result"
    }
   ],
   "source": [
    "# Generar una lista a partir de una cadena split()\n",
    "cadena.split()"
   ]
  },
  {
   "cell_type": "code",
   "execution_count": 20,
   "id": "569f1086",
   "metadata": {},
   "outputs": [
    {
     "data": {
      "text/plain": [
       "['UNIVERSID', 'D N', 'CION', 'L TECNOLÓGIC', ' DE LIM', ' SUR']"
      ]
     },
     "execution_count": 20,
     "metadata": {},
     "output_type": "execute_result"
    }
   ],
   "source": [
    "# Generar una lista utilizando un criterio de separación a partir de una cadena.split()\n",
    "# En este caso vamos a generar una lista de toda la cadena, utilizando como criterio de separación la letra \"A\"\n",
    "cadena.split(\"A\")"
   ]
  },
  {
   "cell_type": "code",
   "execution_count": 21,
   "id": "889fa44a",
   "metadata": {},
   "outputs": [
    {
     "name": "stdout",
     "output_type": "stream",
     "text": [
      "Buenas Tardes Anggie Bravo\n"
     ]
    }
   ],
   "source": [
    "#Forma Clasica, concatenar con +\n",
    "nombre = \"Anggie Bravo\"\n",
    "print(\"Buenas Tardes \" + nombre)"
   ]
  },
  {
   "cell_type": "code",
   "execution_count": 26,
   "id": "e50831ea",
   "metadata": {},
   "outputs": [
    {
     "name": "stdout",
     "output_type": "stream",
     "text": [
      "hola Diego Casas ya sé que tienes 17 años\n"
     ]
    }
   ],
   "source": [
    "# Utilizando el .format()\n",
    "nombre = \"Diego Casas\"\n",
    "edad = 17\n",
    "print(\"hola {} ya sé que tienes {} años\".format(nombre, edad))"
   ]
  },
  {
   "cell_type": "code",
   "execution_count": 30,
   "id": "ac9773b4",
   "metadata": {},
   "outputs": [
    {
     "name": "stdout",
     "output_type": "stream",
     "text": [
      "10/3 es 3.3333333333333335\n",
      "10/3 es 3.333\n"
     ]
    }
   ],
   "source": [
    "# Dar formato a números con muchos decimales\n",
    "resultado =10/3\n",
    "print(\"10/3 es {}\".format(resultado))\n",
    "print(\"10/3 es {r:1.3f}\".format(r=resultado))"
   ]
  },
  {
   "cell_type": "code",
   "execution_count": 32,
   "id": "c216d177",
   "metadata": {},
   "outputs": [
    {
     "name": "stdout",
     "output_type": "stream",
     "text": [
      "Buenos días Lucia Camarena, ya sé que tienes 17 años\n"
     ]
    }
   ],
   "source": [
    "# Dar formato con f\n",
    "# La función f, esta disponible desde la versión 3.6\n",
    "nombre = \"Lucia Camarena\"\n",
    "edad = 17\n",
    "print(f\"Buenos días {nombre}, ya sé que tienes {edad} años\")"
   ]
  },
  {
   "cell_type": "code",
   "execution_count": 34,
   "id": "c7369752",
   "metadata": {},
   "outputs": [
    {
     "name": "stdout",
     "output_type": "stream",
     "text": [
      "10/3 es = 3.3333333333333335\n",
      "10/3 es =3.333\n"
     ]
    }
   ],
   "source": [
    "resultado =10/3\n",
    "print(f\"10/3 es = {resultado}\")\n",
    "print(f\"10/3 es ={resultado:1.3f}\")"
   ]
  },
  {
   "cell_type": "code",
   "execution_count": null,
   "id": "b52cfa19",
   "metadata": {},
   "outputs": [],
   "source": []
  }
 ],
 "metadata": {
  "kernelspec": {
   "display_name": "Python 3 (ipykernel)",
   "language": "python",
   "name": "python3"
  },
  "language_info": {
   "codemirror_mode": {
    "name": "ipython",
    "version": 3
   },
   "file_extension": ".py",
   "mimetype": "text/x-python",
   "name": "python",
   "nbconvert_exporter": "python",
   "pygments_lexer": "ipython3",
   "version": "3.9.12"
  }
 },
 "nbformat": 4,
 "nbformat_minor": 5
}
